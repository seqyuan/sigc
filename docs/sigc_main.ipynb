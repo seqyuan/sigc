{
 "cells": [
  {
   "cell_type": "markdown",
   "metadata": {
    "tags": []
   },
   "source": [
    "# sigc tutorials"
   ]
  },
  {
   "cell_type": "code",
   "execution_count": 1,
   "metadata": {},
   "outputs": [
    {
     "name": "stderr",
     "output_type": "stream",
     "text": [
      "/Users/yuanzan/anaconda3/lib/python3.8/site-packages/pandas/core/computation/expressions.py:20: UserWarning: Pandas requires version '2.7.3' or newer of 'numexpr' (version '2.7.1' currently installed).\n",
      "  from pandas.core.computation.check import NUMEXPR_INSTALLED\n"
     ]
    }
   ],
   "source": [
    "import sigc\n",
    "import scanpy as sc\n",
    "import anndata as ad\n",
    "import pandas as pd\n",
    "\n",
    "import warnings\n",
    "warnings.filterwarnings(\"ignore\")"
   ]
  },
  {
   "cell_type": "code",
   "execution_count": 13,
   "metadata": {},
   "outputs": [
    {
     "data": {
      "text/html": [
       "<div>\n",
       "<style scoped>\n",
       "    .dataframe tbody tr th:only-of-type {\n",
       "        vertical-align: middle;\n",
       "    }\n",
       "\n",
       "    .dataframe tbody tr th {\n",
       "        vertical-align: top;\n",
       "    }\n",
       "\n",
       "    .dataframe thead th {\n",
       "        text-align: right;\n",
       "    }\n",
       "</style>\n",
       "<table border=\"1\" class=\"dataframe\">\n",
       "  <thead>\n",
       "    <tr style=\"text-align: right;\">\n",
       "      <th></th>\n",
       "      <th>name</th>\n",
       "      <th>description</th>\n",
       "      <th>member</th>\n",
       "    </tr>\n",
       "  </thead>\n",
       "  <tbody>\n",
       "    <tr>\n",
       "      <th>0</th>\n",
       "      <td>Glycolysis / Gluconeogenesis</td>\n",
       "      <td>00010</td>\n",
       "      <td>HK3</td>\n",
       "    </tr>\n",
       "    <tr>\n",
       "      <th>1</th>\n",
       "      <td>Glycolysis / Gluconeogenesis</td>\n",
       "      <td>00010</td>\n",
       "      <td>HK1</td>\n",
       "    </tr>\n",
       "    <tr>\n",
       "      <th>2</th>\n",
       "      <td>Glycolysis / Gluconeogenesis</td>\n",
       "      <td>00010</td>\n",
       "      <td>HK2</td>\n",
       "    </tr>\n",
       "    <tr>\n",
       "      <th>3</th>\n",
       "      <td>Glycolysis / Gluconeogenesis</td>\n",
       "      <td>00010</td>\n",
       "      <td>HKDC1</td>\n",
       "    </tr>\n",
       "    <tr>\n",
       "      <th>4</th>\n",
       "      <td>Glycolysis / Gluconeogenesis</td>\n",
       "      <td>00010</td>\n",
       "      <td>GCK</td>\n",
       "    </tr>\n",
       "  </tbody>\n",
       "</table>\n",
       "</div>"
      ],
      "text/plain": [
       "                           name description member\n",
       "0  Glycolysis / Gluconeogenesis       00010    HK3\n",
       "1  Glycolysis / Gluconeogenesis       00010    HK1\n",
       "2  Glycolysis / Gluconeogenesis       00010    HK2\n",
       "3  Glycolysis / Gluconeogenesis       00010  HKDC1\n",
       "4  Glycolysis / Gluconeogenesis       00010    GCK"
      ]
     },
     "metadata": {},
     "output_type": "display_data"
    }
   ],
   "source": [
    "kegg_metabolism = sigc.metabolism_sigs(resources='KEGG')\n",
    "display(kegg_metabolism.head(5))"
   ]
  },
  {
   "cell_type": "code",
   "execution_count": 14,
   "metadata": {},
   "outputs": [
    {
     "name": "stdout",
     "output_type": "stream",
     "text": [
      "(577, 33538)\n"
     ]
    }
   ],
   "source": [
    "adata = ad.read_h5ad(\"/data/THU/srt.h5ad\")\n",
    "df = adata.to_df()\n",
    "print(df.shape)\n",
    "\n",
    "sig_mtx = sigc.sigc_score(df, kegg_metabolism, method=\"AUCell\")"
   ]
  },
  {
   "cell_type": "code",
   "execution_count": 15,
   "metadata": {},
   "outputs": [
    {
     "data": {
      "text/plain": [
       "AnnData object with n_obs × n_vars = 577 × 33538\n",
       "    obs: 'orig.ident', 'nCount_RNA', 'nFeature_RNA', 'seurat_clusters', 'cell.type.v1', 'status', 'patient', 'Mye.ct', 'sub.ct', 'RNA_snn_res.0.5', 'RNA_snn_res.0.4', 'RNA_snn_res.0.7', 'RNA_snn_res.1', 'cell.type.sub2', 'cell.type.sub1', 'cell.type.sub', 'cell.type.sub3', 'status2', 'treat', 'status_treat'\n",
       "    var: 'vst.mean', 'vst.variance', 'vst.variance.expected', 'vst.variance.standardized', 'vst.variable'\n",
       "    obsm: 'X_harmony', 'X_pca', 'X_umap_harmony'\n",
       "    varm: 'HARMONY', 'PCs'"
      ]
     },
     "execution_count": 15,
     "metadata": {},
     "output_type": "execute_result"
    }
   ],
   "source": [
    "adata"
   ]
  },
  {
   "cell_type": "code",
   "execution_count": 16,
   "metadata": {},
   "outputs": [
    {
     "data": {
      "text/plain": [
       "(577, 85)"
      ]
     },
     "execution_count": 16,
     "metadata": {},
     "output_type": "execute_result"
    }
   ],
   "source": [
    "sig_mtx.shape"
   ]
  },
  {
   "cell_type": "code",
   "execution_count": 17,
   "metadata": {},
   "outputs": [],
   "source": [
    "adata.obsm[\"umap\"] = adata.obsm[\"X_umap_harmony\"]\n",
    "sig_adata = ad.AnnData(sig_mtx, obs=adata.obs, obsm=adata.obsm)"
   ]
  },
  {
   "cell_type": "code",
   "execution_count": 18,
   "metadata": {},
   "outputs": [
    {
     "name": "stderr",
     "output_type": "stream",
     "text": [
      "... storing 'orig.ident' as categorical\n",
      "... storing 'seurat_clusters' as categorical\n",
      "... storing 'cell.type.v1' as categorical\n",
      "... storing 'status' as categorical\n",
      "... storing 'patient' as categorical\n",
      "... storing 'Mye.ct' as categorical\n",
      "... storing 'sub.ct' as categorical\n",
      "... storing 'RNA_snn_res.0.5' as categorical\n",
      "... storing 'RNA_snn_res.0.4' as categorical\n",
      "... storing 'RNA_snn_res.0.7' as categorical\n",
      "... storing 'RNA_snn_res.1' as categorical\n",
      "... storing 'cell.type.sub2' as categorical\n",
      "... storing 'cell.type.sub1' as categorical\n",
      "... storing 'cell.type.sub' as categorical\n",
      "... storing 'cell.type.sub3' as categorical\n",
      "... storing 'status2' as categorical\n",
      "... storing 'treat' as categorical\n",
      "... storing 'status_treat' as categorical\n"
     ]
    },
    {
     "data": {
      "image/png": "[encoded data removed]",
      "text/plain": [
       "<Figure size 432x288 with 2 Axes>"
      ]
     },
     "metadata": {
      "needs_background": "light"
     },
     "output_type": "display_data"
    }
   ],
   "source": [
    "sc.pl.umap(sig_adata, color='Glycolysis / Gluconeogenesis')"
   ]
  },
  {
   "cell_type": "code",
   "execution_count": 19,
   "metadata": {},
   "outputs": [
    {
     "name": "stdout",
     "output_type": "stream",
     "text": [
      "Help on package sigc:\n",
      "\n",
      "NAME\n",
      "    sigc\n",
      "\n",
      "PACKAGE CONTENTS\n",
      "    core\n",
      "\n",
      "FUNCTIONS\n",
      "    genesets2GeneSig(df: pandas.core.frame.DataFrame) -> Sequence[Type[ctxcore.genesig.GeneSignature]]\n",
      "        Conver dataframe to GeneSig for AUCell. \n",
      "        \n",
      "        :param df: A dataframe with columns [\"name\", \"member\", \"description\"].\n",
      "                   name        member     description\n",
      "                   signature1  gene1      signature1 description\n",
      "                   signature1  gene2      signature1 description\n",
      "                   signature2  gene4      signature2 description\n",
      "        :return: GeneSignature list.\n",
      "    \n",
      "    metabolism_sigs(resources='KEGG') -> pandas.core.frame.DataFrame\n",
      "        Get a set of default metabolism signature from KEGG or REACTOME. \n",
      "        :param resources: KEGG or REACTOME, default KEGG\n",
      "    \n",
      "    sigc_score(ex_mtx: pandas.core.frame.DataFrame, GeneSigs: pandas.core.frame.DataFrame, method='AUCell', num_workers=4) -> pandas.core.frame.DataFrame\n",
      "        Get a set of signature score of a given gene expression matrix. \n",
      "        \n",
      "        :param ex_mtx: The expression profile matrix. \n",
      "                       The rows should correspond to different cells, \n",
      "                       the columns to different genes (n_cells x n_genes).\n",
      "        :param GeneSigs: A dataframe with columns [\"name\", \"member\", \"description\"].\n",
      "                           name        member     description\n",
      "                           signature1  gene1      signature1 description\n",
      "                           signature1  gene2      signature1 description\n",
      "                           signature2  gene4      signature2 description\n",
      "        :param method: sinature score method [AUCell, GSVA, ssGSEA, ...] (default: AUCell).\n",
      "        :param num_workers: The number of cores to use in AUCell method (default: 4).\n",
      "        :return: A dataframe with cell signature score (n_cells x n_signatures).\n",
      "\n",
      "DATA\n",
      "    __all__ = ['genesets2GeneSig', 'metabolism_sigs', 'sigc_score']\n",
      "\n",
      "VERSION\n",
      "    0.1.15\n",
      "\n",
      "FILE\n",
      "    /root/anaconda3/lib/python3.9/site-packages/sigc/__init__.py\n",
      "\n",
      "\n"
     ]
    }
   ],
   "source": [
    "help(sigc)"
   ]
  },
  {
   "cell_type": "code",
   "execution_count": null,
   "metadata": {},
   "outputs": [],
   "source": []
  }
 ],
 "metadata": {
  "kernelspec": {
   "display_name": "Python 3",
   "language": "python",
   "name": "python3"
  },
  "language_info": {
   "codemirror_mode": {
    "name": "ipython",
    "version": 3
   },
   "file_extension": ".py",
   "mimetype": "text/x-python",
   "name": "python",
   "nbconvert_exporter": "python",
   "pygments_lexer": "ipython3",
   "version": "3.8.5"
  }
 },
 "nbformat": 4,
 "nbformat_minor": 5
}
